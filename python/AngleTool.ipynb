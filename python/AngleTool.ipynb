{
 "cells": [
  {
   "cell_type": "code",
   "execution_count": 1,
   "metadata": {},
   "outputs": [],
   "source": [
    "import serial"
   ]
  },
  {
   "cell_type": "code",
   "execution_count": null,
   "metadata": {},
   "outputs": [],
   "source": [
    "ser = serial.Serial('COM8',9600)\n",
    "counter = 0\n",
    "\n",
    "while True:\n",
    "    command = input('z to reset angle\\na to get current angle\\nq to quit\\n')\n",
    "    if command == 'z':\n",
    "        ser.write(b'z')\n",
    "    elif command == 'a':\n",
    "        ser.write(b'a')\n",
    "        current_angle = float(ser.readline().decode('ascii'))\n",
    "        print(current_angle)\n",
    "    elif command == 'q':\n",
    "        ser.close()\n",
    "        break\n",
    "    else:\n",
    "        print('not a valid command')\n",
    "        "
   ]
  },
  {
   "cell_type": "code",
   "execution_count": null,
   "metadata": {},
   "outputs": [],
   "source": []
  }
 ],
 "metadata": {
  "kernelspec": {
   "display_name": "Python 3",
   "language": "python",
   "name": "python3"
  },
  "language_info": {
   "codemirror_mode": {
    "name": "ipython",
    "version": 3
   },
   "file_extension": ".py",
   "mimetype": "text/x-python",
   "name": "python",
   "nbconvert_exporter": "python",
   "pygments_lexer": "ipython3",
   "version": "3.6.7"
  }
 },
 "nbformat": 4,
 "nbformat_minor": 2
}
